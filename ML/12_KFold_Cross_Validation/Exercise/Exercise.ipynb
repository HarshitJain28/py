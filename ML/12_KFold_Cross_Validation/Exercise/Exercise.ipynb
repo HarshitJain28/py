{
 "cells": [
  {
   "cell_type": "code",
   "execution_count": 1,
   "metadata": {},
   "outputs": [],
   "source": [
    "import pandas as pd\n",
    "from sklearn.model_selection import cross_val_score\n",
    "from sklearn.linear_model import LogisticRegression\n",
    "from sklearn.svm import SVC\n",
    "from sklearn.ensemble import RandomForestClassifier\n",
    "from sklearn.datasets import load_iris"
   ]
  },
  {
   "cell_type": "code",
   "execution_count": 2,
   "metadata": {},
   "outputs": [],
   "source": [
    "data = load_iris()"
   ]
  },
  {
   "cell_type": "code",
   "execution_count": 11,
   "metadata": {},
   "outputs": [
    {
     "data": {
      "text/plain": [
       "0.9733333333333333"
      ]
     },
     "execution_count": 11,
     "metadata": {},
     "output_type": "execute_result"
    }
   ],
   "source": [
    "arr_lr = cross_val_score(LogisticRegression(max_iter=1000), data.data, data.target, cv=3)\n",
    "sc_lr = sum(arr_lr)/3\n",
    "sc_lr"
   ]
  },
  {
   "cell_type": "code",
   "execution_count": 15,
   "metadata": {},
   "outputs": [
    {
     "name": "stdout",
     "output_type": "stream",
     "text": [
      "rbf 0.98\n",
      "linear 0.9733333333333333\n",
      "poly 0.9666666666666667\n",
      "sigmoid 0.32\n"
     ]
    }
   ],
   "source": [
    "for i in ['rbf','linear','poly','sigmoid']:\n",
    "    arr_svm = cross_val_score(SVC(C=10,gamma='auto'), data.data, data.target, cv=3)\n",
    "    sc_svm = sum(arr_svm)/3\n",
    "    print(i,sc_svm)"
   ]
  },
  {
   "cell_type": "code",
   "execution_count": 16,
   "metadata": {},
   "outputs": [
    {
     "data": {
      "text/plain": [
       "0.98"
      ]
     },
     "execution_count": 16,
     "metadata": {},
     "output_type": "execute_result"
    }
   ],
   "source": [
    "arr_svm = cross_val_score(SVC(C=10,gamma='auto'), data.data, data.target, cv=3)\n",
    "sc_svm = sum(arr_svm)/3\n",
    "sc_svm"
   ]
  },
  {
   "cell_type": "code",
   "execution_count": 18,
   "metadata": {},
   "outputs": [
    {
     "name": "stdout",
     "output_type": "stream",
     "text": [
      "10 0.9466666666666667\n",
      "20 0.94\n",
      "30 0.96\n",
      "40 0.9466666666666667\n",
      "50 0.9533333333333333\n",
      "60 0.96\n"
     ]
    }
   ],
   "source": [
    "for i in [10,20,30,40,50,60]:\n",
    "    arr_rf = cross_val_score(RandomForestClassifier(n_estimators=i,criterion='entropy'), data.data, data.target, cv=3)\n",
    "    sc_rf = sum(arr_rf)/3\n",
    "    print(i,sc_rf)"
   ]
  },
  {
   "cell_type": "code",
   "execution_count": 19,
   "metadata": {},
   "outputs": [
    {
     "data": {
      "text/plain": [
       "0.96"
      ]
     },
     "execution_count": 19,
     "metadata": {},
     "output_type": "execute_result"
    }
   ],
   "source": [
    "arr_rf = cross_val_score(RandomForestClassifier(n_estimators=30), data.data, data.target, cv=3)\n",
    "sc_rf = sum(arr_rf)/3\n",
    "sc_rf"
   ]
  }
 ],
 "metadata": {
  "kernelspec": {
   "display_name": "Python 3",
   "language": "python",
   "name": "python3"
  },
  "language_info": {
   "codemirror_mode": {
    "name": "ipython",
    "version": 3
   },
   "file_extension": ".py",
   "mimetype": "text/x-python",
   "name": "python",
   "nbconvert_exporter": "python",
   "pygments_lexer": "ipython3",
   "version": "3.8.5"
  }
 },
 "nbformat": 4,
 "nbformat_minor": 4
}
