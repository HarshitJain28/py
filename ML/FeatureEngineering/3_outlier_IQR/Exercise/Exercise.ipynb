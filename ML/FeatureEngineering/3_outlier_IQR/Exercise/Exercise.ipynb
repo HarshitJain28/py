{
 "cells": [
  {
   "cell_type": "code",
   "execution_count": 1,
   "metadata": {},
   "outputs": [],
   "source": [
    "import pandas as pd\n",
    "import matplotlib.pyplot as plt"
   ]
  },
  {
   "cell_type": "code",
   "execution_count": 3,
   "metadata": {},
   "outputs": [
    {
     "data": {
      "text/html": [
       "<div>\n",
       "<style scoped>\n",
       "    .dataframe tbody tr th:only-of-type {\n",
       "        vertical-align: middle;\n",
       "    }\n",
       "\n",
       "    .dataframe tbody tr th {\n",
       "        vertical-align: top;\n",
       "    }\n",
       "\n",
       "    .dataframe thead th {\n",
       "        text-align: right;\n",
       "    }\n",
       "</style>\n",
       "<table border=\"1\" class=\"dataframe\">\n",
       "  <thead>\n",
       "    <tr style=\"text-align: right;\">\n",
       "      <th></th>\n",
       "      <th>gender</th>\n",
       "      <th>height</th>\n",
       "      <th>weight</th>\n",
       "    </tr>\n",
       "  </thead>\n",
       "  <tbody>\n",
       "    <tr>\n",
       "      <th>0</th>\n",
       "      <td>Male</td>\n",
       "      <td>73.847017</td>\n",
       "      <td>241.893563</td>\n",
       "    </tr>\n",
       "    <tr>\n",
       "      <th>1</th>\n",
       "      <td>Male</td>\n",
       "      <td>68.781904</td>\n",
       "      <td>162.310473</td>\n",
       "    </tr>\n",
       "    <tr>\n",
       "      <th>2</th>\n",
       "      <td>Male</td>\n",
       "      <td>74.110105</td>\n",
       "      <td>212.740856</td>\n",
       "    </tr>\n",
       "    <tr>\n",
       "      <th>3</th>\n",
       "      <td>Male</td>\n",
       "      <td>71.730978</td>\n",
       "      <td>220.042470</td>\n",
       "    </tr>\n",
       "    <tr>\n",
       "      <th>4</th>\n",
       "      <td>Male</td>\n",
       "      <td>69.881796</td>\n",
       "      <td>206.349801</td>\n",
       "    </tr>\n",
       "  </tbody>\n",
       "</table>\n",
       "</div>"
      ],
      "text/plain": [
       "  gender     height      weight\n",
       "0   Male  73.847017  241.893563\n",
       "1   Male  68.781904  162.310473\n",
       "2   Male  74.110105  212.740856\n",
       "3   Male  71.730978  220.042470\n",
       "4   Male  69.881796  206.349801"
      ]
     },
     "execution_count": 3,
     "metadata": {},
     "output_type": "execute_result"
    }
   ],
   "source": [
    "df = pd.read_csv('height_weight.csv')\n",
    "df.head()"
   ]
  },
  {
   "cell_type": "code",
   "execution_count": 4,
   "metadata": {},
   "outputs": [
    {
     "data": {
      "text/plain": [
       "(array([0.00040428, 0.00145539, 0.00533644, 0.01228997, 0.02603534,\n",
       "        0.04883648, 0.07034393, 0.08376588, 0.09031514, 0.08724265,\n",
       "        0.08958744, 0.08562554, 0.07204189, 0.05829652, 0.0412361 ,\n",
       "        0.02061805, 0.00970261, 0.00347677, 0.00153625, 0.00040428]),\n",
       " array([54.26313333, 55.49991378, 56.73669423, 57.97347468, 59.21025513,\n",
       "        60.44703558, 61.68381603, 62.92059648, 64.15737693, 65.39415738,\n",
       "        66.63093784, 67.86771829, 69.10449874, 70.34127919, 71.57805964,\n",
       "        72.81484009, 74.05162054, 75.28840099, 76.52518144, 77.7619619 ,\n",
       "        78.99874235]),\n",
       " <BarContainer object of 20 artists>)"
      ]
     },
     "execution_count": 4,
     "metadata": {},
     "output_type": "execute_result"
    },
    {
     "data": {
      "image/png": "[encoded data removed]",
      "text/plain": [
       "<Figure size 432x288 with 1 Axes>"
      ]
     },
     "metadata": {
      "needs_background": "light"
     },
     "output_type": "display_data"
    }
   ],
   "source": [
    "plt.hist(df.height,bins=20,rwidth=0.8,density=True)"
   ]
  },
  {
   "cell_type": "code",
   "execution_count": 7,
   "metadata": {},
   "outputs": [
    {
     "data": {
      "text/plain": [
       "count    10000.000000\n",
       "mean        66.367560\n",
       "std          3.847528\n",
       "min         54.263133\n",
       "25%         63.505620\n",
       "50%         66.318070\n",
       "75%         69.174262\n",
       "max         78.998742\n",
       "Name: height, dtype: float64"
      ]
     },
     "execution_count": 7,
     "metadata": {},
     "output_type": "execute_result"
    }
   ],
   "source": [
    "df.height.describe()"
   ]
  },
  {
   "cell_type": "code",
   "execution_count": 5,
   "metadata": {},
   "outputs": [
    {
     "name": "stdout",
     "output_type": "stream",
     "text": [
      "77.67722359525831 55.00265861279534\n"
     ]
    }
   ],
   "source": [
    "q1,q3 = df.height.quantile([0.25,0.75])\n",
    "iqr = q3-q1\n",
    "lower_limit = q1 - (1.5*iqr)\n",
    "upper_limit = q3 + (1.5*iqr)\n",
    "print(upper_limit,lower_limit)"
   ]
  },
  {
   "cell_type": "code",
   "execution_count": 12,
   "metadata": {},
   "outputs": [
    {
     "data": {
      "text/plain": [
       "(array([0.00125108, 0.00330642, 0.0074171 , 0.01635337, 0.03324291,\n",
       "        0.05272398, 0.0722944 , 0.08417963, 0.08972012, 0.08891586,\n",
       "        0.08980948, 0.08793287, 0.08033704, 0.06407303, 0.05388569,\n",
       "        0.03360036, 0.01930234, 0.00902563, 0.00321706, 0.00232343]),\n",
       " array([55.14855736, 56.26848881, 57.38842026, 58.50835171, 59.62828316,\n",
       "        60.74821461, 61.86814606, 62.9880775 , 64.10800895, 65.2279404 ,\n",
       "        66.34787185, 67.4678033 , 68.58773475, 69.7076662 , 70.82759765,\n",
       "        71.9475291 , 73.06746055, 74.18739199, 75.30732344, 76.42725489,\n",
       "        77.54718634]),\n",
       " <BarContainer object of 20 artists>)"
      ]
     },
     "execution_count": 12,
     "metadata": {},
     "output_type": "execute_result"
    },
    {
     "data": {
      "image/png": "[encoded data removed]",
      "text/plain": [
       "<Figure size 432x288 with 1 Axes>"
      ]
     },
     "metadata": {
      "needs_background": "light"
     },
     "output_type": "display_data"
    }
   ],
   "source": [
    "df_height_cleaned = df[(df.height > lower_limit)&(df.height < upper_limit)]\n",
    "plt.hist(df_height_cleaned.height,bins=20,rwidth=0.8,density=True)"
   ]
  },
  {
   "cell_type": "code",
   "execution_count": 13,
   "metadata": {},
   "outputs": [
    {
     "data": {
      "text/plain": [
       "count    9992.000000\n",
       "mean       66.365006\n",
       "std         3.833980\n",
       "min        55.148557\n",
       "25%        63.509087\n",
       "50%        66.317827\n",
       "75%        69.169386\n",
       "max        77.547186\n",
       "Name: height, dtype: float64"
      ]
     },
     "execution_count": 13,
     "metadata": {},
     "output_type": "execute_result"
    }
   ],
   "source": [
    "df_height_cleaned.height.describe()"
   ]
  },
  {
   "cell_type": "code",
   "execution_count": 9,
   "metadata": {},
   "outputs": [
    {
     "data": {
      "text/plain": [
       "count    10000.000000\n",
       "mean       161.440357\n",
       "std         32.108439\n",
       "min         64.700127\n",
       "25%        135.818051\n",
       "50%        161.212928\n",
       "75%        187.169525\n",
       "max        269.989699\n",
       "Name: weight, dtype: float64"
      ]
     },
     "execution_count": 9,
     "metadata": {},
     "output_type": "execute_result"
    }
   ],
   "source": [
    "df.weight.describe()"
   ]
  },
  {
   "cell_type": "code",
   "execution_count": 10,
   "metadata": {},
   "outputs": [
    {
     "data": {
      "text/plain": [
       "(array([3.89693443e-05, 1.07165697e-04, 6.04024836e-04, 2.10434459e-03,\n",
       "        4.52044394e-03, 7.56979513e-03, 1.00930602e-02, 1.10965208e-02,\n",
       "        9.21624992e-03, 8.79732947e-03, 9.52800468e-03, 1.01125448e-02,\n",
       "        9.53774701e-03, 7.48211410e-03, 4.09178115e-03, 1.73413582e-03,\n",
       "        4.96859140e-04, 1.94846721e-04, 8.76810246e-05, 9.74233607e-06]),\n",
       " array([ 64.70012671,  74.9646053 ,  85.22908389,  95.49356248,\n",
       "        105.75804107, 116.02251966, 126.28699825, 136.55147684,\n",
       "        146.81595543, 157.08043402, 167.34491261, 177.6093912 ,\n",
       "        187.87386979, 198.13834838, 208.40282697, 218.66730556,\n",
       "        228.93178415, 239.19626274, 249.46074133, 259.72521992,\n",
       "        269.98969851]),\n",
       " <BarContainer object of 20 artists>)"
      ]
     },
     "execution_count": 10,
     "metadata": {},
     "output_type": "execute_result"
    },
    {
     "data": {
      "image/png": "[encoded data removed]",
      "text/plain": [
       "<Figure size 432x288 with 1 Axes>"
      ]
     },
     "metadata": {
      "needs_background": "light"
     },
     "output_type": "display_data"
    }
   ],
   "source": [
    "plt.hist(df.weight,bins=20,rwidth=0.8,density=True)"
   ]
  },
  {
   "cell_type": "code",
   "execution_count": 11,
   "metadata": {},
   "outputs": [
    {
     "name": "stdout",
     "output_type": "stream",
     "text": [
      "264.19673521345646 58.79084096072856\n"
     ]
    }
   ],
   "source": [
    "q1_w,q3_w = df.weight.quantile([0.25,0.75])\n",
    "iqr_w = q3_w-q1_w\n",
    "lower_limit_w = q1_w - (1.5*iqr_w)\n",
    "upper_limit_w = q3_w + (1.5*iqr_w)\n",
    "print(upper_limit_w,lower_limit_w)"
   ]
  },
  {
   "cell_type": "code",
   "execution_count": 14,
   "metadata": {},
   "outputs": [
    {
     "data": {
      "text/plain": [
       "(array([4.18532442e-05, 7.32431773e-05, 5.02238930e-04, 1.69505639e-03,\n",
       "        3.60984231e-03, 6.39308305e-03, 9.19725041e-03, 1.09132334e-02,\n",
       "        1.01075585e-02, 8.93566763e-03, 9.08215399e-03, 9.73087927e-03,\n",
       "        1.01808016e-02, 9.29142021e-03, 7.58590051e-03, 4.24810429e-03,\n",
       "        1.92524923e-03, 7.53358395e-04, 2.30192843e-04, 1.25559733e-04]),\n",
       " array([ 64.70012671,  74.2582867 ,  83.81644669,  93.37460668,\n",
       "        102.93276667, 112.49092666, 122.04908665, 131.60724664,\n",
       "        141.16540662, 150.72356661, 160.2817266 , 169.83988659,\n",
       "        179.39804658, 188.95620657, 198.51436656, 208.07252655,\n",
       "        217.63068654, 227.18884653, 236.74700651, 246.3051665 ,\n",
       "        255.86332649]),\n",
       " <BarContainer object of 20 artists>)"
      ]
     },
     "execution_count": 14,
     "metadata": {},
     "output_type": "execute_result"
    },
    {
     "data": {
      "image/png": "[encoded data removed]",
      "text/plain": [
       "<Figure size 432x288 with 1 Axes>"
      ]
     },
     "metadata": {
      "needs_background": "light"
     },
     "output_type": "display_data"
    }
   ],
   "source": [
    "df_weight_cleaned = df[(df.weight > lower_limit_w)&(df.weight < upper_limit_w)]\n",
    "plt.hist(df_weight_cleaned.weight,bins=20,rwidth=0.8,density=True)"
   ]
  },
  {
   "cell_type": "code",
   "execution_count": 15,
   "metadata": {},
   "outputs": [
    {
     "data": {
      "text/plain": [
       "count    9999.000000\n",
       "mean      161.429501\n",
       "std        32.091686\n",
       "min        64.700127\n",
       "25%       135.817009\n",
       "50%       161.201891\n",
       "75%       187.152394\n",
       "max       255.863326\n",
       "Name: weight, dtype: float64"
      ]
     },
     "execution_count": 15,
     "metadata": {},
     "output_type": "execute_result"
    }
   ],
   "source": [
    "df_weight_cleaned.weight.describe()"
   ]
  }
 ],
 "metadata": {
  "kernelspec": {
   "display_name": "Python 3",
   "language": "python",
   "name": "python3"
  },
  "language_info": {
   "codemirror_mode": {
    "name": "ipython",
    "version": 3
   },
   "file_extension": ".py",
   "mimetype": "text/x-python",
   "name": "python",
   "nbconvert_exporter": "python",
   "pygments_lexer": "ipython3",
   "version": "3.8.5"
  }
 },
 "nbformat": 4,
 "nbformat_minor": 4
}
