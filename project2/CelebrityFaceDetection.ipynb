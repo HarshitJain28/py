{
 "cells": [
  {
   "cell_type": "code",
   "execution_count": 1,
   "metadata": {},
   "outputs": [],
   "source": [
    "import numpy as np\n",
    "import cv2\n",
    "import matplotlib.pyplot as plt\n",
    "import os\n",
    "%matplotlib inline"
   ]
  },
  {
   "cell_type": "code",
   "execution_count": 2,
   "metadata": {},
   "outputs": [],
   "source": [
    "faceCascade = cv2.CascadeClassifier('./haarcascades/haarcascade_frontalface_default.xml')\n",
    "eyesCascade = cv2.CascadeClassifier('./haarcascades/haarcascade_eye.xml')"
   ]
  },
  {
   "cell_type": "code",
   "execution_count": 3,
   "metadata": {},
   "outputs": [],
   "source": [
    "path_to_data = './images_dataset/'\n",
    "path_to_cropped_data = './images_dataset/cropped'"
   ]
  },
  {
   "cell_type": "code",
   "execution_count": 7,
   "metadata": {},
   "outputs": [
    {
     "data": {
      "text/plain": [
       "['./images_dataset/cristiano_ronaldo',\n",
       " './images_dataset/lionel_messi',\n",
       " './images_dataset/roger_federer',\n",
       " './images_dataset/serena_williams',\n",
       " './images_dataset/virat_kohli']"
      ]
     },
     "execution_count": 7,
     "metadata": {},
     "output_type": "execute_result"
    }
   ],
   "source": [
    "img_dirs = []\n",
    "for files in os.scandir(path_to_data):\n",
    "    if files.is_dir():\n",
    "        img_dirs.append(files.path)\n",
    "img_dirs"
   ]
  },
  {
   "cell_type": "code",
   "execution_count": 8,
   "metadata": {},
   "outputs": [],
   "source": [
    "import shutil\n",
    "if os.path.exists(path_to_cropped_data):\n",
    "    shutil.rmtree(path_to_cropped_data)\n",
    "os.mkdir(path_to_cropped_data)"
   ]
  },
  {
   "cell_type": "code",
   "execution_count": 4,
   "metadata": {},
   "outputs": [],
   "source": [
    "def get_cropped_img(img_path):\n",
    "    img = cv2.imread(img_path)\n",
    "    gray_img = cv2.cvtColor(img, cv2.COLOR_BGR2GRAY)\n",
    "    faces = faceCascade.detectMultiScale(gray_img, 1.5, 5)\n",
    "    for (x,y,w,h) in faces:\n",
    "        roi_gray = gray_img[y:y+h, x:x+w]\n",
    "        roi_color = img[y:y+h, x:x+w]\n",
    "        eyes = eyesCascade.detectMultiScale(roi_gray)\n",
    "        if len(eyes) >= 2:\n",
    "            return roi_color"
   ]
  },
  {
   "cell_type": "code",
   "execution_count": 9,
   "metadata": {
    "scrolled": true
   },
   "outputs": [
    {
     "name": "stdout",
     "output_type": "stream",
     "text": [
      "Generating cropped folder for:  cristiano_ronaldo\n",
      "Generating cropped folder for:  lionel_messi\n",
      "Generating cropped folder for:  roger_federer\n",
      "Generating cropped folder for:  serena_williams\n",
      "Generating cropped folder for:  virat_kohli\n"
     ]
    }
   ],
   "source": [
    "cropped_img_dirs = []\n",
    "celebrity_file_dict = {}\n",
    "for img_dir in img_dirs:\n",
    "    count = 1\n",
    "    celebrity_name = img_dir.split('/')[-1]\n",
    "    celebrity_file_dict[celebrity_name] = []\n",
    "    for entry in os.scandir(img_dir):\n",
    "        roi_color = get_cropped_img(entry.path)\n",
    "        if roi_color is not None:\n",
    "            cropped_folder = path_to_cropped_data + '/' + celebrity_name\n",
    "            if not os.path.exists(cropped_folder):\n",
    "                os.mkdir(cropped_folder)\n",
    "                cropped_img_dirs.append(cropped_folder)\n",
    "                print(\"Generating cropped folder for: \", celebrity_name)\n",
    "            cropped_file_name = celebrity_name + str(count) + '.png'\n",
    "            cropped_file_path = cropped_folder + '/' + cropped_file_name\n",
    "            cv2.imwrite(cropped_file_path, roi_color)\n",
    "            celebrity_file_dict[celebrity_name].append(cropped_file_path)\n",
    "            count+=1"
   ]
  },
  {
   "cell_type": "code",
   "execution_count": 10,
   "metadata": {},
   "outputs": [
    {
     "data": {
      "text/plain": [
       "{'cristiano_ronaldo': ['./images_dataset/cropped/cristiano_ronaldo/cristiano_ronaldo1.png',\n",
       "  './images_dataset/cropped/cristiano_ronaldo/cristiano_ronaldo2.png',\n",
       "  './images_dataset/cropped/cristiano_ronaldo/cristiano_ronaldo3.png',\n",
       "  './images_dataset/cropped/cristiano_ronaldo/cristiano_ronaldo4.png',\n",
       "  './images_dataset/cropped/cristiano_ronaldo/cristiano_ronaldo5.png',\n",
       "  './images_dataset/cropped/cristiano_ronaldo/cristiano_ronaldo6.png',\n",
       "  './images_dataset/cropped/cristiano_ronaldo/cristiano_ronaldo7.png',\n",
       "  './images_dataset/cropped/cristiano_ronaldo/cristiano_ronaldo8.png',\n",
       "  './images_dataset/cropped/cristiano_ronaldo/cristiano_ronaldo9.png',\n",
       "  './images_dataset/cropped/cristiano_ronaldo/cristiano_ronaldo10.png',\n",
       "  './images_dataset/cropped/cristiano_ronaldo/cristiano_ronaldo11.png',\n",
       "  './images_dataset/cropped/cristiano_ronaldo/cristiano_ronaldo12.png',\n",
       "  './images_dataset/cropped/cristiano_ronaldo/cristiano_ronaldo13.png',\n",
       "  './images_dataset/cropped/cristiano_ronaldo/cristiano_ronaldo14.png',\n",
       "  './images_dataset/cropped/cristiano_ronaldo/cristiano_ronaldo15.png',\n",
       "  './images_dataset/cropped/cristiano_ronaldo/cristiano_ronaldo16.png',\n",
       "  './images_dataset/cropped/cristiano_ronaldo/cristiano_ronaldo17.png',\n",
       "  './images_dataset/cropped/cristiano_ronaldo/cristiano_ronaldo18.png',\n",
       "  './images_dataset/cropped/cristiano_ronaldo/cristiano_ronaldo19.png',\n",
       "  './images_dataset/cropped/cristiano_ronaldo/cristiano_ronaldo20.png',\n",
       "  './images_dataset/cropped/cristiano_ronaldo/cristiano_ronaldo21.png',\n",
       "  './images_dataset/cropped/cristiano_ronaldo/cristiano_ronaldo22.png',\n",
       "  './images_dataset/cropped/cristiano_ronaldo/cristiano_ronaldo23.png',\n",
       "  './images_dataset/cropped/cristiano_ronaldo/cristiano_ronaldo24.png',\n",
       "  './images_dataset/cropped/cristiano_ronaldo/cristiano_ronaldo25.png',\n",
       "  './images_dataset/cropped/cristiano_ronaldo/cristiano_ronaldo26.png',\n",
       "  './images_dataset/cropped/cristiano_ronaldo/cristiano_ronaldo27.png',\n",
       "  './images_dataset/cropped/cristiano_ronaldo/cristiano_ronaldo28.png',\n",
       "  './images_dataset/cropped/cristiano_ronaldo/cristiano_ronaldo29.png',\n",
       "  './images_dataset/cropped/cristiano_ronaldo/cristiano_ronaldo30.png',\n",
       "  './images_dataset/cropped/cristiano_ronaldo/cristiano_ronaldo31.png',\n",
       "  './images_dataset/cropped/cristiano_ronaldo/cristiano_ronaldo32.png',\n",
       "  './images_dataset/cropped/cristiano_ronaldo/cristiano_ronaldo33.png',\n",
       "  './images_dataset/cropped/cristiano_ronaldo/cristiano_ronaldo34.png',\n",
       "  './images_dataset/cropped/cristiano_ronaldo/cristiano_ronaldo35.png',\n",
       "  './images_dataset/cropped/cristiano_ronaldo/cristiano_ronaldo36.png',\n",
       "  './images_dataset/cropped/cristiano_ronaldo/cristiano_ronaldo37.png',\n",
       "  './images_dataset/cropped/cristiano_ronaldo/cristiano_ronaldo38.png',\n",
       "  './images_dataset/cropped/cristiano_ronaldo/cristiano_ronaldo39.png',\n",
       "  './images_dataset/cropped/cristiano_ronaldo/cristiano_ronaldo40.png',\n",
       "  './images_dataset/cropped/cristiano_ronaldo/cristiano_ronaldo41.png',\n",
       "  './images_dataset/cropped/cristiano_ronaldo/cristiano_ronaldo42.png',\n",
       "  './images_dataset/cropped/cristiano_ronaldo/cristiano_ronaldo43.png',\n",
       "  './images_dataset/cropped/cristiano_ronaldo/cristiano_ronaldo44.png',\n",
       "  './images_dataset/cropped/cristiano_ronaldo/cristiano_ronaldo45.png',\n",
       "  './images_dataset/cropped/cristiano_ronaldo/cristiano_ronaldo46.png',\n",
       "  './images_dataset/cropped/cristiano_ronaldo/cristiano_ronaldo47.png'],\n",
       " 'lionel_messi': ['./images_dataset/cropped/lionel_messi/lionel_messi1.png',\n",
       "  './images_dataset/cropped/lionel_messi/lionel_messi2.png',\n",
       "  './images_dataset/cropped/lionel_messi/lionel_messi3.png',\n",
       "  './images_dataset/cropped/lionel_messi/lionel_messi4.png',\n",
       "  './images_dataset/cropped/lionel_messi/lionel_messi5.png',\n",
       "  './images_dataset/cropped/lionel_messi/lionel_messi6.png',\n",
       "  './images_dataset/cropped/lionel_messi/lionel_messi7.png',\n",
       "  './images_dataset/cropped/lionel_messi/lionel_messi8.png',\n",
       "  './images_dataset/cropped/lionel_messi/lionel_messi9.png',\n",
       "  './images_dataset/cropped/lionel_messi/lionel_messi10.png',\n",
       "  './images_dataset/cropped/lionel_messi/lionel_messi11.png',\n",
       "  './images_dataset/cropped/lionel_messi/lionel_messi12.png',\n",
       "  './images_dataset/cropped/lionel_messi/lionel_messi13.png',\n",
       "  './images_dataset/cropped/lionel_messi/lionel_messi14.png',\n",
       "  './images_dataset/cropped/lionel_messi/lionel_messi15.png',\n",
       "  './images_dataset/cropped/lionel_messi/lionel_messi16.png',\n",
       "  './images_dataset/cropped/lionel_messi/lionel_messi17.png',\n",
       "  './images_dataset/cropped/lionel_messi/lionel_messi18.png',\n",
       "  './images_dataset/cropped/lionel_messi/lionel_messi19.png',\n",
       "  './images_dataset/cropped/lionel_messi/lionel_messi20.png',\n",
       "  './images_dataset/cropped/lionel_messi/lionel_messi21.png',\n",
       "  './images_dataset/cropped/lionel_messi/lionel_messi22.png',\n",
       "  './images_dataset/cropped/lionel_messi/lionel_messi23.png',\n",
       "  './images_dataset/cropped/lionel_messi/lionel_messi24.png',\n",
       "  './images_dataset/cropped/lionel_messi/lionel_messi25.png',\n",
       "  './images_dataset/cropped/lionel_messi/lionel_messi26.png',\n",
       "  './images_dataset/cropped/lionel_messi/lionel_messi27.png',\n",
       "  './images_dataset/cropped/lionel_messi/lionel_messi28.png',\n",
       "  './images_dataset/cropped/lionel_messi/lionel_messi29.png',\n",
       "  './images_dataset/cropped/lionel_messi/lionel_messi30.png',\n",
       "  './images_dataset/cropped/lionel_messi/lionel_messi31.png',\n",
       "  './images_dataset/cropped/lionel_messi/lionel_messi32.png',\n",
       "  './images_dataset/cropped/lionel_messi/lionel_messi33.png',\n",
       "  './images_dataset/cropped/lionel_messi/lionel_messi34.png',\n",
       "  './images_dataset/cropped/lionel_messi/lionel_messi35.png',\n",
       "  './images_dataset/cropped/lionel_messi/lionel_messi36.png',\n",
       "  './images_dataset/cropped/lionel_messi/lionel_messi37.png',\n",
       "  './images_dataset/cropped/lionel_messi/lionel_messi38.png'],\n",
       " 'roger_federer': ['./images_dataset/cropped/roger_federer/roger_federer1.png',\n",
       "  './images_dataset/cropped/roger_federer/roger_federer2.png',\n",
       "  './images_dataset/cropped/roger_federer/roger_federer3.png',\n",
       "  './images_dataset/cropped/roger_federer/roger_federer4.png',\n",
       "  './images_dataset/cropped/roger_federer/roger_federer5.png',\n",
       "  './images_dataset/cropped/roger_federer/roger_federer6.png',\n",
       "  './images_dataset/cropped/roger_federer/roger_federer7.png',\n",
       "  './images_dataset/cropped/roger_federer/roger_federer8.png',\n",
       "  './images_dataset/cropped/roger_federer/roger_federer9.png',\n",
       "  './images_dataset/cropped/roger_federer/roger_federer10.png',\n",
       "  './images_dataset/cropped/roger_federer/roger_federer11.png',\n",
       "  './images_dataset/cropped/roger_federer/roger_federer12.png',\n",
       "  './images_dataset/cropped/roger_federer/roger_federer13.png',\n",
       "  './images_dataset/cropped/roger_federer/roger_federer14.png',\n",
       "  './images_dataset/cropped/roger_federer/roger_federer15.png',\n",
       "  './images_dataset/cropped/roger_federer/roger_federer16.png',\n",
       "  './images_dataset/cropped/roger_federer/roger_federer17.png',\n",
       "  './images_dataset/cropped/roger_federer/roger_federer18.png',\n",
       "  './images_dataset/cropped/roger_federer/roger_federer19.png',\n",
       "  './images_dataset/cropped/roger_federer/roger_federer20.png',\n",
       "  './images_dataset/cropped/roger_federer/roger_federer21.png',\n",
       "  './images_dataset/cropped/roger_federer/roger_federer22.png',\n",
       "  './images_dataset/cropped/roger_federer/roger_federer23.png',\n",
       "  './images_dataset/cropped/roger_federer/roger_federer24.png',\n",
       "  './images_dataset/cropped/roger_federer/roger_federer25.png',\n",
       "  './images_dataset/cropped/roger_federer/roger_federer26.png',\n",
       "  './images_dataset/cropped/roger_federer/roger_federer27.png'],\n",
       " 'serena_williams': ['./images_dataset/cropped/serena_williams/serena_williams1.png',\n",
       "  './images_dataset/cropped/serena_williams/serena_williams2.png',\n",
       "  './images_dataset/cropped/serena_williams/serena_williams3.png',\n",
       "  './images_dataset/cropped/serena_williams/serena_williams4.png',\n",
       "  './images_dataset/cropped/serena_williams/serena_williams5.png',\n",
       "  './images_dataset/cropped/serena_williams/serena_williams6.png',\n",
       "  './images_dataset/cropped/serena_williams/serena_williams7.png',\n",
       "  './images_dataset/cropped/serena_williams/serena_williams8.png',\n",
       "  './images_dataset/cropped/serena_williams/serena_williams9.png',\n",
       "  './images_dataset/cropped/serena_williams/serena_williams10.png',\n",
       "  './images_dataset/cropped/serena_williams/serena_williams11.png',\n",
       "  './images_dataset/cropped/serena_williams/serena_williams12.png',\n",
       "  './images_dataset/cropped/serena_williams/serena_williams13.png',\n",
       "  './images_dataset/cropped/serena_williams/serena_williams14.png',\n",
       "  './images_dataset/cropped/serena_williams/serena_williams15.png',\n",
       "  './images_dataset/cropped/serena_williams/serena_williams16.png',\n",
       "  './images_dataset/cropped/serena_williams/serena_williams17.png',\n",
       "  './images_dataset/cropped/serena_williams/serena_williams18.png',\n",
       "  './images_dataset/cropped/serena_williams/serena_williams19.png',\n",
       "  './images_dataset/cropped/serena_williams/serena_williams20.png',\n",
       "  './images_dataset/cropped/serena_williams/serena_williams21.png',\n",
       "  './images_dataset/cropped/serena_williams/serena_williams22.png',\n",
       "  './images_dataset/cropped/serena_williams/serena_williams23.png',\n",
       "  './images_dataset/cropped/serena_williams/serena_williams24.png',\n",
       "  './images_dataset/cropped/serena_williams/serena_williams25.png',\n",
       "  './images_dataset/cropped/serena_williams/serena_williams26.png',\n",
       "  './images_dataset/cropped/serena_williams/serena_williams27.png',\n",
       "  './images_dataset/cropped/serena_williams/serena_williams28.png',\n",
       "  './images_dataset/cropped/serena_williams/serena_williams29.png',\n",
       "  './images_dataset/cropped/serena_williams/serena_williams30.png',\n",
       "  './images_dataset/cropped/serena_williams/serena_williams31.png',\n",
       "  './images_dataset/cropped/serena_williams/serena_williams32.png',\n",
       "  './images_dataset/cropped/serena_williams/serena_williams33.png',\n",
       "  './images_dataset/cropped/serena_williams/serena_williams34.png',\n",
       "  './images_dataset/cropped/serena_williams/serena_williams35.png'],\n",
       " 'virat_kohli': ['./images_dataset/cropped/virat_kohli/virat_kohli1.png',\n",
       "  './images_dataset/cropped/virat_kohli/virat_kohli2.png',\n",
       "  './images_dataset/cropped/virat_kohli/virat_kohli3.png',\n",
       "  './images_dataset/cropped/virat_kohli/virat_kohli4.png',\n",
       "  './images_dataset/cropped/virat_kohli/virat_kohli5.png',\n",
       "  './images_dataset/cropped/virat_kohli/virat_kohli6.png',\n",
       "  './images_dataset/cropped/virat_kohli/virat_kohli7.png',\n",
       "  './images_dataset/cropped/virat_kohli/virat_kohli8.png',\n",
       "  './images_dataset/cropped/virat_kohli/virat_kohli9.png',\n",
       "  './images_dataset/cropped/virat_kohli/virat_kohli10.png',\n",
       "  './images_dataset/cropped/virat_kohli/virat_kohli11.png',\n",
       "  './images_dataset/cropped/virat_kohli/virat_kohli12.png',\n",
       "  './images_dataset/cropped/virat_kohli/virat_kohli13.png',\n",
       "  './images_dataset/cropped/virat_kohli/virat_kohli14.png',\n",
       "  './images_dataset/cropped/virat_kohli/virat_kohli15.png',\n",
       "  './images_dataset/cropped/virat_kohli/virat_kohli16.png',\n",
       "  './images_dataset/cropped/virat_kohli/virat_kohli17.png',\n",
       "  './images_dataset/cropped/virat_kohli/virat_kohli18.png',\n",
       "  './images_dataset/cropped/virat_kohli/virat_kohli19.png',\n",
       "  './images_dataset/cropped/virat_kohli/virat_kohli20.png',\n",
       "  './images_dataset/cropped/virat_kohli/virat_kohli21.png',\n",
       "  './images_dataset/cropped/virat_kohli/virat_kohli22.png',\n",
       "  './images_dataset/cropped/virat_kohli/virat_kohli23.png',\n",
       "  './images_dataset/cropped/virat_kohli/virat_kohli24.png',\n",
       "  './images_dataset/cropped/virat_kohli/virat_kohli25.png',\n",
       "  './images_dataset/cropped/virat_kohli/virat_kohli26.png',\n",
       "  './images_dataset/cropped/virat_kohli/virat_kohli27.png',\n",
       "  './images_dataset/cropped/virat_kohli/virat_kohli28.png',\n",
       "  './images_dataset/cropped/virat_kohli/virat_kohli29.png',\n",
       "  './images_dataset/cropped/virat_kohli/virat_kohli30.png',\n",
       "  './images_dataset/cropped/virat_kohli/virat_kohli31.png',\n",
       "  './images_dataset/cropped/virat_kohli/virat_kohli32.png',\n",
       "  './images_dataset/cropped/virat_kohli/virat_kohli33.png',\n",
       "  './images_dataset/cropped/virat_kohli/virat_kohli34.png']}"
      ]
     },
     "execution_count": 10,
     "metadata": {},
     "output_type": "execute_result"
    }
   ],
   "source": [
    "celebrity_file_dict"
   ]
  },
  {
   "cell_type": "code",
   "execution_count": 11,
   "metadata": {},
   "outputs": [
    {
     "data": {
      "text/plain": [
       "{'cristiano_ronaldo': 0,\n",
       " 'lionel_messi': 1,\n",
       " 'roger_federer': 2,\n",
       " 'serena_williams': 3,\n",
       " 'virat_kohli': 4}"
      ]
     },
     "execution_count": 11,
     "metadata": {},
     "output_type": "execute_result"
    }
   ],
   "source": [
    "celeb_num = {}\n",
    "c = 0\n",
    "for celeb_name in celebrity_file_dict.keys():\n",
    "    celeb_num[celeb_name] = c\n",
    "    c+=1\n",
    "celeb_num"
   ]
  },
  {
   "cell_type": "code",
   "execution_count": 13,
   "metadata": {},
   "outputs": [],
   "source": [
    "import pywt\n",
    "\n",
    "def w2d(img, mode='haar', level=1):\n",
    "    imgArr = cv2.cvtColor(img, cv2.COLOR_BGR2GRAY)\n",
    "    imgArr = np.float32(imgArr)\n",
    "    imgArr /= 255\n",
    "    coeffs = pywt.wavedec2(imgArr, mode, level=level)\n",
    "    coef_H = list(coeffs)\n",
    "    coef_H[0] *= 0;\n",
    "    imgArr_H = pywt.waverec2(coef_H, mode);\n",
    "    imgArr_H *= 255\n",
    "    imgArr_H = np.uint8(imgArr_H)\n",
    "    \n",
    "    return imgArr_H\n",
    "    "
   ]
  },
  {
   "cell_type": "code",
   "execution_count": 15,
   "metadata": {},
   "outputs": [],
   "source": [
    "X = []\n",
    "y = []\n",
    "for celeb_name, celeb_files in celebrity_file_dict.items():\n",
    "    for celeb_file in celeb_files:\n",
    "        img = cv2.imread(celeb_file)\n",
    "        if img is None:\n",
    "            continue\n",
    "        scaled_raw = cv2.resize(img, (32,32))\n",
    "        img_har = w2d(img,'db1',5)\n",
    "        scaled_img_har = cv2.resize(img_har, (32,32))\n",
    "        combined_img = np.vstack((scaled_raw.reshape(32*32*3,1),scaled_img_har.reshape(32*32,1)))\n",
    "        X.append(combined_img)\n",
    "        y.append(celeb_num[celeb_name])"
   ]
  },
  {
   "cell_type": "code",
   "execution_count": 17,
   "metadata": {},
   "outputs": [
    {
     "data": {
      "text/plain": [
       "4096"
      ]
     },
     "execution_count": 17,
     "metadata": {},
     "output_type": "execute_result"
    }
   ],
   "source": [
    "len(X[0])"
   ]
  },
  {
   "cell_type": "code",
   "execution_count": 19,
   "metadata": {},
   "outputs": [
    {
     "data": {
      "text/plain": [
       "(158, 4096)"
      ]
     },
     "execution_count": 19,
     "metadata": {},
     "output_type": "execute_result"
    }
   ],
   "source": [
    "X = np.array(X).reshape(len(X),4096).astype(float)\n",
    "X.shape"
   ]
  },
  {
   "cell_type": "code",
   "execution_count": 20,
   "metadata": {},
   "outputs": [
    {
     "data": {
      "text/plain": [
       "array([ 69.,  57., 109., ...,  10.,  12.,   0.])"
      ]
     },
     "execution_count": 20,
     "metadata": {},
     "output_type": "execute_result"
    }
   ],
   "source": [
    "X[0]"
   ]
  }
 ],
 "metadata": {
  "kernelspec": {
   "display_name": "Python 3",
   "language": "python",
   "name": "python3"
  },
  "language_info": {
   "codemirror_mode": {
    "name": "ipython",
    "version": 3
   },
   "file_extension": ".py",
   "mimetype": "text/x-python",
   "name": "python",
   "nbconvert_exporter": "python",
   "pygments_lexer": "ipython3",
   "version": "3.8.5"
  }
 },
 "nbformat": 4,
 "nbformat_minor": 4
}
